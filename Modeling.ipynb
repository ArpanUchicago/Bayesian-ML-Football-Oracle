{
 "cells": [
  {
   "cell_type": "code",
   "execution_count": 2,
   "id": "dd657853",
   "metadata": {},
   "outputs": [],
   "source": [
    "\n",
    "import json\n",
    "from pandas import json_normalize\n",
    "\n",
    "data_infile = 'open-data/data/events/'\n",
    "match_id = 7298\n",
    "data_path = data_infile+ str(match_id) + '.json'\n",
    "\n",
    "\n",
    "with open(data_path) as f:\n",
    "    data = json.load(f)"
   ]
  },
  {
   "cell_type": "code",
   "execution_count": 3,
   "id": "a3b91ca3",
   "metadata": {},
   "outputs": [],
   "source": [
    "\n",
    "\n",
    "\n",
    "players = {}\n",
    "\n",
    "for event in data: \n",
    "    if event.get('type', {}).get('name') == 'Starting XI': \n",
    "        lineup = event.get('tactics', {}).get('lineup', [])\n",
    "        for entry in lineup: \n",
    "            player = entry['player']\n",
    "            players[player['name']] = player['id']\n"
   ]
  },
  {
   "cell_type": "code",
   "execution_count": 4,
   "id": "bf88127b",
   "metadata": {},
   "outputs": [],
   "source": [
    "def shot_event(event): \n",
    "    player = event.get('player', {}).get('name', 'Unknown Player')\n",
    "    team = event.get('team', {}).get('name', '')\n",
    "    start_location = event.get('location', [])\n",
    "    outcome = event.get('interception', {}).get('outcome', '')\n",
    "    return f\"Shot py {player} of team{team} from {start_location}, {outcome}\"\n",
    "    \n",
    "def offside_event(event): \n",
    "    player = event.get('player', {}).get('name', 'Unknown Player')\n",
    "    team = event.get('team', {}).get('name', '')\n",
    "    return f\"{player} of {team} caught offsides\"\n",
    "\n",
    "def interception_event(event): \n",
    "    player = event.get('player', {}).get('name', 'Unknown Player')\n",
    "    team = event.get('team', {}).get('name', '')\n",
    "    start_location = event.get('location', [])\n",
    "    outcome = event.get('interception', {}).get('outcome', '')\n",
    "    return f\"Interception {outcome} by {player} of {team} at {start_location}\" \n",
    "    \n",
    "def foul_won_event(event): \n",
    "    player = event.get('player', {}).get('name', 'Unknown Player')\n",
    "    team = event.get('team', {}).get('name', '')\n",
    "    start_location = event.get('location', [])\n",
    "    return f'Foul won by {player} of team {team} at {start_location}'\n",
    "\n",
    "def foul_committed_event(event): \n",
    "    player = event.get('player', {}).get('name', 'Unknown Player')\n",
    "    team = event.get('team', {}).get('name', '')\n",
    "    start_location = event.get('location', [])\n",
    "    return f'{player} of team {team} committed foul at {start_location}'\n",
    "def dribbled_past(event): \n",
    "    player = event.get('player', {}).get('name', 'Unknown Player')\n",
    "    team = event.get('team', {}).get('name', '')\n",
    "    start_location = event.get('location', [])\n",
    "    return f'{player} of team {team} dribbled past at {start_location}'\n",
    "\n",
    "def dribble_event(event): \n",
    "    player = event.get('player', {}).get('name', 'Unknown Player')\n",
    "    team = event.get('team', {}).get('name', '')\n",
    "    start_location = event.get('location', [])\n",
    "    outcome = event.get('dribble', '').get('outcome', '')\n",
    "    return f'{outcome} dribble by {player} of team {team} at {start_location}'\n",
    "\n",
    "def dispossed_event(event): \n",
    "    player = event.get('player', {}).get('name', 'Unknown Player')\n",
    "    team = event.get('team', {}).get('name', '')\n",
    "    start_location = event.get('location', [])\n",
    "    return f\"{player} of team {team} dispossed at {start_location}\"\n",
    "\n",
    "def clearance_event(event): \n",
    "    player = event.get('player', {}).get('name', 'Unknown Player')\n",
    "    team = event.get('team', {}).get('name', '')\n",
    "    start_location = event.get('location', [])\n",
    "    play_pattern = event.get('location', [])\n",
    "    return f'Clearance by {player} of team {team} from {start_location} in {play_pattern}'\n",
    "\n",
    "def block_event(event):\n",
    "    player = event.get('player', {}).get('name', 'Unknown Player')\n",
    "    team = event.get('team', {}).get('name', '')\n",
    "    start_location = event.get('location', [])\n",
    "    play_pattern = event.get('play_pattern').get('name', '')\n",
    "    return f\"Block by {player} of team {team} at {start_location} from a {play_pattern}\"\n",
    "\n",
    "def carry_event(event):\n",
    "    player = event.get('player', {}).get('name', 'Unknown Player')\n",
    "    team = event.get('team', {}).get('name', '')\n",
    "    start_location = event.get('location', [])\n",
    "    play_pattern = event.get('play_pattern').get('name', '')\n",
    "    duration = event.get('duration', 0)\n",
    "    end_location = event.get('carry', {}).get('end_location', [])\n",
    "    return f\"Carry by {player} of team {team} from {start_location} to {end_location} lasting {duration}\"\n",
    "\n",
    "def pass_event(event):\n",
    "    player = event.get('player', {}).get('name', 'Unknown Player')\n",
    "    team = event.get('team', {}).get('name', '')\n",
    "    pass_details = event.get('pass', {})\n",
    "    pass_type = pass_details.get('height', {}).get('name', 'Ground Pass')\n",
    "    length = round(pass_details.get('length', 0), 1)\n",
    "    start_location = event.get('location', [])\n",
    "    end_location = pass_details.get('end_location', [])\n",
    "    under_pressure = event.get('under_pressure', False)\n",
    "    pressure_note = \" under pressure\" if under_pressure else \"\"\n",
    "\n",
    "    recipient = pass_details.get('recipient', {}).get('name')\n",
    "    outcome = pass_details.get('outcome', {}).get('name')  # e.g., 'Incomplete'\n",
    "\n",
    "    if recipient and not outcome:\n",
    "        return f\"{player} of {team} makes a {length}m {pass_type.lower()} to {recipient} from {start_location} to {end_location}{pressure_note}.\"\n",
    "    elif outcome:\n",
    "        return f\"{player} of {team} attempts a {length}m {pass_type.lower()} from {start_location}{pressure_note}, but it is {outcome.lower()}.\"\n",
    "    else:\n",
    "        return f\"{player} of {team} plays a {length}m {pass_type.lower()} from {start_location} to {end_location}{pressure_note}.\"\n",
    "    \n",
    "def ball_recovery(event): \n",
    "    player = event.get('player', {}).get('name', 'Unknown Player')\n",
    "    team = event.get('team', {}).get('name', '')\n",
    "    start_location = event.get('location', [])\n",
    "\n",
    "    return f\"Ball Recovery by {player} of team {team} at {start_location}\"\n"
   ]
  },
  {
   "cell_type": "code",
   "execution_count": 5,
   "id": "3c0c9f2a",
   "metadata": {},
   "outputs": [],
   "source": [
    "EVENT_DISPATCH = {\n",
    "    'Shot': shot_event,\n",
    "    'Offside': offside_event,\n",
    "    'Interception': interception_event,\n",
    "    'Foul Won': foul_won_event,\n",
    "    'Foul Committed': foul_committed_event,\n",
    "    'Dribbled Past': dribbled_past,\n",
    "    'Dribble': dribble_event,\n",
    "    'Dispossessed': dispossed_event,\n",
    "    'Clearance': clearance_event,\n",
    "    'Block': block_event,\n",
    "    'Carry': carry_event, \n",
    "    'Pass': pass_event\n",
    "}\n"
   ]
  },
  {
   "cell_type": "code",
   "execution_count": 6,
   "id": "143dd7bf",
   "metadata": {},
   "outputs": [],
   "source": [
    "def process_event(event):\n",
    "    event_type = event.get('type', {}).get('name')\n",
    "    formatter = EVENT_DISPATCH.get(event_type)\n",
    "    if formatter:\n",
    "        return formatter(event)\n",
    "    return None  \n"
   ]
  },
  {
   "cell_type": "code",
   "execution_count": 7,
   "id": "0dcc2fa9",
   "metadata": {},
   "outputs": [
    {
     "name": "stdout",
     "output_type": "stream",
     "text": [
      "I am going to describe a football event and I want you to generate a piece of commentary for that event: So-Yun Ji of Chelsea FCW makes a 3.6m ground pass to Ramona Bachmann from [61.0, 40.0] to [63.0, 37.0].\n"
     ]
    }
   ],
   "source": [
    "prompts = []\n",
    "for event in data:\n",
    "    prompt = process_event(event)\n",
    "    if prompt: \n",
    "        prompt = \"I am going to describe a football event and I want you to generate a piece of commentary for that event: \" + prompt\n",
    "        prompts.append(prompt)\n",
    "    \n",
    "print(prompts[0])\n"
   ]
  },
  {
   "cell_type": "code",
   "execution_count": 8,
   "id": "583922e2",
   "metadata": {},
   "outputs": [
    {
     "data": {
      "application/vnd.jupyter.widget-view+json": {
       "model_id": "b11f718613724a88861e1f76a8519a2c",
       "version_major": 2,
       "version_minor": 0
      },
      "text/plain": [
       "Loading checkpoint shards:   0%|          | 0/4 [00:00<?, ?it/s]"
      ]
     },
     "metadata": {},
     "output_type": "display_data"
    },
    {
     "name": "stderr",
     "output_type": "stream",
     "text": [
      "Device set to use mps:0\n"
     ]
    }
   ],
   "source": [
    "from transformers import pipeline\n",
    "\n",
    "pipe = pipeline(\"text-generation\", model=\"meta-llama/Llama-3.1-8B-Instruct\")\n",
    "\n",
    "\n"
   ]
  },
  {
   "cell_type": "code",
   "execution_count": null,
   "id": "1840f5a5",
   "metadata": {},
   "outputs": [
    {
     "data": {
      "application/vnd.jupyter.widget-view+json": {
       "model_id": "bccee899adec41859ff752d8c7fb1774",
       "version_major": 2,
       "version_minor": 0
      },
      "text/plain": [
       "Loading checkpoint shards:   0%|          | 0/2 [00:00<?, ?it/s]"
      ]
     },
     "metadata": {},
     "output_type": "display_data"
    },
    {
     "data": {
      "application/vnd.jupyter.widget-view+json": {
       "model_id": "48a8afa7911049639722d874f1110a10",
       "version_major": 2,
       "version_minor": 0
      },
      "text/plain": [
       "generation_config.json:   0%|          | 0.00/116 [00:00<?, ?B/s]"
      ]
     },
     "metadata": {},
     "output_type": "display_data"
    },
    {
     "name": "stderr",
     "output_type": "stream",
     "text": [
      "Some parameters are on the meta device because they were offloaded to the disk.\n"
     ]
    },
    {
     "data": {
      "application/vnd.jupyter.widget-view+json": {
       "model_id": "3bf20029003e4a098ef993517ae6aac2",
       "version_major": 2,
       "version_minor": 0
      },
      "text/plain": [
       "tokenizer_config.json:   0%|          | 0.00/2.10k [00:00<?, ?B/s]"
      ]
     },
     "metadata": {},
     "output_type": "display_data"
    },
    {
     "data": {
      "application/vnd.jupyter.widget-view+json": {
       "model_id": "9360ac04e713407c87c481cf2c473f6f",
       "version_major": 2,
       "version_minor": 0
      },
      "text/plain": [
       "tokenizer.model:   0%|          | 0.00/493k [00:00<?, ?B/s]"
      ]
     },
     "metadata": {},
     "output_type": "display_data"
    },
    {
     "data": {
      "application/vnd.jupyter.widget-view+json": {
       "model_id": "dac603ada8fd4a8da779fc683f263590",
       "version_major": 2,
       "version_minor": 0
      },
      "text/plain": [
       "tokenizer.json:   0%|          | 0.00/1.80M [00:00<?, ?B/s]"
      ]
     },
     "metadata": {},
     "output_type": "display_data"
    },
    {
     "data": {
      "application/vnd.jupyter.widget-view+json": {
       "model_id": "ad6dd4824a73420f9ffbcc9607c543cc",
       "version_major": 2,
       "version_minor": 0
      },
      "text/plain": [
       "special_tokens_map.json:   0%|          | 0.00/414 [00:00<?, ?B/s]"
      ]
     },
     "metadata": {},
     "output_type": "display_data"
    },
    {
     "name": "stderr",
     "output_type": "stream",
     "text": [
      "Device set to use mps\n",
      "Setting `pad_token_id` to `eos_token_id`:2 for open-end generation.\n",
      "/Users/mattschaefer/opt/anaconda3/envs/bayes/lib/python3.10/site-packages/transformers/pytorch_utils.py:328: UserWarning: To copy construct from a tensor, it is recommended to use sourceTensor.clone().detach() or sourceTensor.clone().detach().requires_grad_(True), rather than torch.tensor(sourceTensor).\n",
      "  test_elements = torch.tensor(test_elements)\n"
     ]
    },
    {
     "name": "stdout",
     "output_type": "stream",
     "text": [
      "[{'role': 'user', 'content': 'Generate a short piece of football commentary for: So-Yun Ji of Chelsea FCW makes a 3.6m pass to Ramona Bachmann.'}, {'role': 'assistant', 'content': ' \"Wow, what a fantastic pass from So-Yun Ji of Chelsea FCW! The '}]\n"
     ]
    }
   ],
   "source": [
    "from transformers import pipeline\n",
    "\n",
    "import torch\n",
    "\n",
    "pipe = pipeline(\n",
    "    \"text-generation\",\n",
    "    model=\"mistralai/Mistral-7B-Instruct-v0.1\",\n",
    "    torch_dtype=torch.float16,                    \n",
    "    device_map=\"auto\"                             \n",
    ")\n",
    "\n",
    "messages = [{\"role\": \"user\", \"content\": \"Generate a short piece of football commentary for: So-Yun Ji of Chelsea FCW makes a 3.6m pass to Ramona Bachmann.\"}]\n",
    "print(pipe(messages)[0][\"generated_text\"])\n"
   ]
  }
 ],
 "metadata": {
  "kernelspec": {
   "display_name": "bayes",
   "language": "python",
   "name": "python3"
  },
  "language_info": {
   "codemirror_mode": {
    "name": "ipython",
    "version": 3
   },
   "file_extension": ".py",
   "mimetype": "text/x-python",
   "name": "python",
   "nbconvert_exporter": "python",
   "pygments_lexer": "ipython3",
   "version": "3.10.16"
  }
 },
 "nbformat": 4,
 "nbformat_minor": 5
}
